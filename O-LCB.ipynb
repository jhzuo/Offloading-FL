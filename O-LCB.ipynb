{
 "cells": [
  {
   "cell_type": "code",
   "execution_count": 81,
   "metadata": {},
   "outputs": [],
   "source": [
    "# soft version\n",
    "\n",
    "import numpy as np\n",
    "import matplotlib.pyplot as plt\n",
    "\n",
    "\n",
    "m = 20 # number of devices\n",
    "n = 5  # number of servers\n",
    "\n",
    "# f(x, y, mu)\n",
    "def f(x, y, mu):\n",
    "    f_out = np.sum(x_t[:,1:]*mu)\n",
    "    return f_out\n",
    "\n",
    "# min f(x, y. mu)\n",
    "def oracle(y, mu):\n",
    "    x = np.ones((m, n+1))\n",
    "    x /= (n+1)\n",
    "    return x\n",
    "\n",
    "N = 10 # number of experiments\n",
    "T = 1000 # rounds per experiment\n",
    "reg = np.zeros((N,T))\n",
    "\n",
    "for u in range(N):\n",
    "    mu = np.random.rand(m,n) # real mu\n",
    "    mu_hat = np.zeros_like(mu) # empirical mean\n",
    "    T_ij = np.ones_like(mu) # total number of times arm (i,j) is played\n",
    "    for t in range(T):\n",
    "        y = 100*np.random.rand(m)\n",
    "        x_opt = oracle(y, mu)\n",
    "        f_opt = f(x_opt, y, mu)\n",
    "        \n",
    "        rho_ij = np.sqrt(3*np.log(t+1)/(2*T_ij))\n",
    "        mu_bar = np.max(mu_hat - rho_ij, 0) # LCB\n",
    "        \n",
    "        x_t = oracle(y, mu_bar)\n",
    "        f_t = f(x_t, y, mu)\n",
    "        \n",
    "        # sample j based on x_t[i], observe c_ij, update mu_hat[i,j]        \n",
    "        for i in range(m):\n",
    "            j = np.random.choice(n+1, p=x_t[i])\n",
    "            if j != 0:\n",
    "                j -= 1\n",
    "                c_ij = int(np.random.rand() < mu[i,j])\n",
    "                T_ij[i, j] += 1\n",
    "                mu_hat[i, j] += (c_ij - mu_hat[i, j]) / T_ij[i, j]\n",
    "\n",
    "        # calculate regert\n",
    "        reg[u, t] = f_t - f_opt      "
   ]
  }
 ],
 "metadata": {
  "kernelspec": {
   "display_name": "Python 3",
   "language": "python",
   "name": "python3"
  },
  "language_info": {
   "codemirror_mode": {
    "name": "ipython",
    "version": 3
   },
   "file_extension": ".py",
   "mimetype": "text/x-python",
   "name": "python",
   "nbconvert_exporter": "python",
   "pygments_lexer": "ipython3",
   "version": "3.8.3"
  }
 },
 "nbformat": 4,
 "nbformat_minor": 4
}
