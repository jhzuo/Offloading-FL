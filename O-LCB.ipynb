{
 "cells": [
  {
   "cell_type": "code",
   "execution_count": 4,
   "metadata": {},
   "outputs": [],
   "source": [
    "\n",
    "import numpy as np\n",
    "import matplotlib.pyplot as plt\n",
    "import cvxpy as cp\n",
    "\n",
    "np.random.seed(1)\n",
    "\n",
    "\n",
    "m = 20 # number of devices\n",
    "n = 5  # number of servers\n",
    "\n",
    "wD = np.random.randint(1 ,4 ,m )\n",
    "wS = np.random.randint(1 ,4 ,n )\n",
    "\n",
    "BD = np.random.uniform(50, 80, m)\n",
    "BS = np.random.uniform(100, 300, n)\n",
    "CD = np.random.uniform(100, 200, m)\n",
    "\n",
    "class Trace(object):\n",
    "\n",
    "    def __init__(self):\n",
    "        data = np.loadtxt('trace_data/Lumos5G-v1.0/Lumos5G-v1.0.csv', delimiter=',', skiprows=1, usecols=(0,15)).astype(int)\n",
    "        self.traces = []\n",
    "        for run in np.unique(data[:,0]):\n",
    "            trace = data[data[:,0]==run, 1]\n",
    "            trace = 100/(trace + 1)\n",
    "            self.traces.append(trace)\n",
    "        self.trace_selection = np.random.choice(len(self.traces), (m,n))\n",
    "        self.trace_counter = np.zeros_like(self.trace_selection)\n",
    "        for i in range(m):\n",
    "            for j in range(n):\n",
    "                self.trace_counter[i,j] = np.random.choice(len(self.traces[self.trace_selection[i,j]]))\n",
    "\n",
    "    def generate(self):\n",
    "        rt = np.zeros((m, n))\n",
    "        for i in range(m):\n",
    "            for j in range(n):\n",
    "                rt[i,j] = self.traces[self.trace_selection[i,j]][self.trace_counter[i,j]]\n",
    "                self.trace_counter[i,j] += 1\n",
    "                if self.trace_counter[i,j] == len(self.traces[self.trace_selection[i,j]]):\n",
    "                    self.trace_counter[i,j] = 0\n",
    "        return rt\n",
    "\n",
    "# f(x, y, mu)\n",
    "def f(x, y, mu, gamma=0):\n",
    "    a = np.multiply(x[0, :], y)\n",
    "    b = x[1:, :] @ y\n",
    "    c = mu @ b\n",
    "#     print('x0y:\\t%.2f +- %.2f' %(np.average(a), np.std(a)))\n",
    "#     print('xy:\\t%.2f +- %.2f' %(np.average(b), np.std(b)))\n",
    "#     print('uxy:\\t%.2f +- %.2f' %(np.average(c), np.std(c)))\n",
    "    return np.sum( 1 /np.sqrt(a + wD)) \\\n",
    "           + np.sum( 1 /np.sqrt(np.sqrt(b+ wS))) + gamma * np.sum(c)/m/n\n",
    "\n",
    "\n",
    "# min f(x, y. mu)\n",
    "def oracle(y, mu, gamma=0, hard=False):\n",
    "    if hard:\n",
    "\n",
    "        gamma = 0\n",
    "\n",
    "    Y = cp.Parameter((m,), nonneg=True)\n",
    "    Y.value = y\n",
    "\n",
    "    x = cp.Variable((n + 1, m), nonneg=True)\n",
    "\n",
    "\n",
    "    obj = cp.sum(cp.inv_pos(cp.sqrt(cp.multiply(x[0, :], y) + wD))) \\\n",
    "          + cp.sum(cp.inv_pos(cp.sqrt(x[1:, :] @ y + wS))) + gamma * cp.sum(mu @ (x[1:, :] @ y))/m/n\n",
    "\n",
    "    constraints = [0 <= x, x <= 1,\n",
    "                   cp.multiply(x[0, :], y) <= BD,\n",
    "                   x[1:, :] @ y <= BS,\n",
    "                   cp.sum(x, 0) == 1]\n",
    "\n",
    "    if hard:\n",
    "        constraints.append(mu @ (x[1:, :] @ y) <= CD)\n",
    "\n",
    "    prob = cp.Problem(cp.Minimize(obj), constraints)\n",
    "    prob.solve()  # Returns the optimal value.\n",
    "    return x.value, prob.value, prob.status,\n",
    "\n",
    "\n",
    "trace_gen = Trace()\n"
   ]
  },
  {
   "cell_type": "code",
   "execution_count": 5,
   "metadata": {},
   "outputs": [
    {
     "name": "stderr",
     "output_type": "stream",
     "text": [
      "/Users/yihu/opt/anaconda3/envs/Offloading-FL/lib/python3.9/site-packages/cvxpy/problems/problem.py:1278: UserWarning: Solution may be inaccurate. Try another solver, adjusting the solver settings, or solve with verbose=True for more information.\n",
      "  warnings.warn(\n"
     ]
    },
    {
     "data": {
      "text/plain": "<Figure size 432x288 with 1 Axes>",
      "image/png": "[encoded data removed]"
     },
     "metadata": {
      "needs_background": "light"
     },
     "output_type": "display_data"
    }
   ],
   "source": [
    "N = 3 # number of experiments\n",
    "T = 500 # rounds per experiment\n",
    "reg = np.zeros((N,T))\n",
    "gamma = 1\n",
    "for u in range(N):\n",
    "    mu = trace_gen.generate()\n",
    "    mu_hat = np.zeros_like(mu) # empirical mean\n",
    "    T_ij = np.ones_like(mu) # total number of times arm (i,j) is played\n",
    "    for t in range(T):\n",
    "        y = np.random.uniform(80, 120, m).astype(int)\n",
    "        x_opt, f_opt, status = oracle(y, mu, gamma)\n",
    "\n",
    "        rho_ij = np.sqrt(3*np.log(t+1)/(2*T_ij))\n",
    "        mu_bar = np.max(mu_hat - rho_ij, 0) # LCB\n",
    "        \n",
    "        x_t, f_t, status = oracle(y, mu_bar, gamma)\n",
    "        f_t = f(x_t, y, mu, gamma)\n",
    "        \n",
    "        # sample j based on x_t[i], observe c_ij, update mu_hat[i,j]        \n",
    "        for i in range(m):\n",
    "            j = np.random.choice(n+1, p=x_t[:,i])\n",
    "            if j != 0:\n",
    "                j -= 1\n",
    "                c_ij = int(np.random.rand() < mu[i,j])\n",
    "                T_ij[i, j] += 1\n",
    "                mu_hat[i, j] += (c_ij - mu_hat[i, j]) / T_ij[i, j]\n",
    "\n",
    "        # calculate regert\n",
    "        reg[u, t] = f_t - f_opt      \n",
    "        \n",
    "plt.plot(np.cumsum(reg,axis=1).T)\n",
    "plt.show()\n",
    "\n"
   ]
  },
  {
   "cell_type": "code",
   "execution_count": null,
   "metadata": {},
   "outputs": [],
   "source": [
    "\n"
   ]
  }
 ],
 "metadata": {
  "kernelspec": {
   "display_name": "PyCharm (Offloading-FL)",
   "language": "python",
   "name": "pycharm-e0a56cf4"
  },
  "language_info": {
   "codemirror_mode": {
    "name": "ipython",
    "version": 3
   },
   "file_extension": ".py",
   "mimetype": "text/x-python",
   "name": "python",
   "nbconvert_exporter": "python",
   "pygments_lexer": "ipython3",
   "version": "3.9.5"
  }
 },
 "nbformat": 4,
 "nbformat_minor": 4
}