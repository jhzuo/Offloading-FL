{
 "cells": [
  {
   "cell_type": "code",
   "execution_count": null,
   "metadata": {
    "scrolled": false
   },
   "outputs": [],
   "source": [
    "# hard constraints\n",
    "\n",
    "import numpy as np\n",
    "import matplotlib.pyplot as plt\n",
    "import cvxpy as cp\n",
    "\n",
    "N = 1\n",
    "T = 500\n",
    "m = 20  # number of devices\n",
    "n = 5  # number of servers\n",
    "y_max = 110\n",
    "y_min = 90\n",
    "rs = 0.1\n",
    "beta = np.ones(n)\n",
    "beta[0] = 3\n",
    "beta[1] = 3\n",
    "seed = 0\n",
    "np.random.seed(seed)\n",
    "\n",
    "def optimization(m, n, wS, y, mu, BS, beta, CD):\n",
    "    x = cp.Variable((n + 1, m), nonneg=True)\n",
    "    obj = beta @ cp.inv_pos(cp.sqrt(x[1:, :] @ y + wS))\n",
    "\n",
    "    constraints = [0 <= x, x <= 1,\n",
    "                   x[1:, :] @ y <= BS,\n",
    "                   cp.sum(x, 0) == 1]\n",
    "    for i in range(m):\n",
    "        constraints.append((y[i] * mu[i, :] @ x[1:, i]) <= CD[i])\n",
    "\n",
    "    prob = cp.Problem(cp.Minimize(obj), constraints)\n",
    "    prob.solve()  # Returns the optimal value.\n",
    "    return x, prob\n",
    "\n",
    "def oracle(y, mu):\n",
    "    x, prob = optimization(m, n, wS, y, mu, BS, beta, CD)\n",
    "    return x.value, prob.value, prob.status\n",
    "\n",
    "def f(x, y):\n",
    "    return beta.dot(1/np.sqrt(x[1:, :].dot(y) + wS))\n",
    "\n",
    "def f_drop(x, y, mu, CD, BS):\n",
    "    yp = np.minimum(y, CD/ np.diag(mu @ x[1:, :]))\n",
    "    dp = np.minimum(x[1:, :].dot(yp), BS)\n",
    "    return beta.dot(1/np.sqrt(dp + wS))\n",
    "\n",
    "reg = np.zeros((N, T))\n",
    "\n",
    "#records all y, x_opt, x_t #yuhang yao\n",
    "y_N_T = np.zeros((N, T, m)) #yuhang yao\n",
    "x_opt_N_T = np.zeros((N, T, n + 1, m)) #yuhang yao\n",
    "x_t_N_T = np.zeros((N, T, n + 1, m)) #yuhang yao\n",
    "j_N_T = np.zeros((N, T, m))#yuhang yao\n",
    "BS_N = np.zeros((N, n))#yuhang yao\n",
    "\n",
    "for u in range(N):\n",
    "    wS = np.random.randint(15, 25, n)\n",
    "    \n",
    "#     BS = np.random.uniform(y_min*5, y_max*5, n)\n",
    "#     CD = np.random.uniform(y_min/2, y_max/2, m)\n",
    "    BS = np.random.uniform(y_min*10, y_max*10, n)\n",
    "    BS_N[u] = BS\n",
    "    CD = np.random.uniform(y_min*0.6, y_max*0.6, m)\n",
    "    mu = np.random.rand(m, n)\n",
    "    mu[:,0] = 0.5\n",
    "    mu[:,1] = 0.5\n",
    "    mu[:,2] = 0.8\n",
    "    mu[:,3] = 0.8\n",
    "    mu[:,4] = 0.8\n",
    "    # trace_gen = Trace(m, n, seed + u)\n",
    "    # mu = trace_gen.avg()\n",
    "    # mu = np.random.rand(m, n)\n",
    "    # mu_hat = np.zeros_like(mu)  # empirical mean\n",
    "    mu_hat = np.ones_like(mu)\n",
    "    T_ij = np.ones_like(mu)  # total number of times arm (i,j) is played\n",
    "    for t in range(T):\n",
    "        y = np.random.uniform(y_min, y_max, m).astype(int)\n",
    "        x_opt, f_opt, status = oracle(y, mu)\n",
    "        if 'optimal' not in status:\n",
    "            print('Solution infeasible 1')\n",
    "            break\n",
    "\n",
    "        rho_ij = np.sqrt(3 * np.log(t + 1) / (2 * T_ij)) * rs\n",
    "        mu_bar = np.maximum(mu_hat - rho_ij, 0) # LCB\n",
    "        x_tmp, f_tmp, status = oracle(y, mu_bar)\n",
    "        if 'optimal' not in status:\n",
    "            print('Solution infeasible 2')\n",
    "            break\n",
    "        \n",
    "        # mapping from x_tmp to x_t (new)\n",
    "        x_t = np.zeros((n + 1, m))\n",
    "        \n",
    "        for i in range(m):\n",
    "            cost = y[i] * mu[i,:].dot(x_tmp[1:, i])\n",
    "            if cost > CD[i]:\n",
    "                x_t[1:, i] = mu_bar[i] / mu[i] * x_tmp[1:, i]\n",
    "                x_t[0, i] = 1-np.sum(x_t[1:, i])\n",
    "                if x_t[0, i] < 0:\n",
    "                    x_t[0, i] = 0\n",
    "                    x_t[1:, i] = x_t[1:, i]/np.sum(x_t[1:, i])\n",
    "            else:\n",
    "                x_t[:, i] = x_tmp[:, i]\n",
    "\n",
    "        f_t = f(x_t, y)\n",
    "        \n",
    "        # sample j based on x_t[i], observe c_ij, update mu_hat[i,j]\n",
    "        # c = trace_gen.generate()\n",
    "        for i in range(m):\n",
    "            j = np.random.choice(n+1, p=x_t[:, i])\n",
    "            j_N_T[u, t, i] = j #yuhang yao\n",
    "            if j != 0:\n",
    "                j -= 1\n",
    "                c_ij = int(np.random.rand() < mu[i, j])\n",
    "                # a = np.random.rand() * 3\n",
    "                # c_ij = np.random.beta(a, a * (1-mu[i, j])/mu[i, j]) # beta distribution\n",
    "                # c_ij = c[i, j]  # trace\n",
    "                T_ij[i, j] += 1\n",
    "                mu_hat[i, j] += (c_ij - mu_hat[i, j]) / T_ij[i, j]\n",
    "\n",
    "        # calculate regert\n",
    "        reg[u, t] = f_t - f_opt\n",
    "        y_N_T[u, t] = y#yuhang yao\n",
    "        x_opt_N_T[u, t] = x_opt#yuhang yao\n",
    "        x_t_N_T[u, t] = x_t#yuhang yao\n",
    "        \n",
    "plt.plot(np.cumsum(reg, axis=1).T)"
   ]
  },
  {
   "cell_type": "code",
   "execution_count": 16,
   "metadata": {
    "scrolled": true
   },
   "outputs": [
    {
     "data": {
      "text/plain": [
       "array([605.70735018, 605.70937788, 291.19441505, 291.19444473,\n",
       "       291.19441143])"
      ]
     },
     "execution_count": 16,
     "metadata": {},
     "output_type": "execute_result"
    }
   ],
   "source": [
    "x_t[1:, :].dot(y) + wS"
   ]
  },
  {
   "cell_type": "code",
   "execution_count": 17,
   "metadata": {},
   "outputs": [
    {
     "data": {
      "text/plain": [
       "array([605.71613982, 605.70536136, 291.19407864, 291.1941644 ,\n",
       "       291.19024448])"
      ]
     },
     "execution_count": 17,
     "metadata": {},
     "output_type": "execute_result"
    }
   ],
   "source": [
    "x_opt[1:, :].dot(y) + wS"
   ]
  },
  {
   "cell_type": "code",
   "execution_count": 14,
   "metadata": {
    "scrolled": true
   },
   "outputs": [
    {
     "data": {
      "text/plain": [
       "1240.6749809965972"
      ]
     },
     "execution_count": 14,
     "metadata": {},
     "output_type": "execute_result"
    }
   ],
   "source": [
    "np.sum((y*x_t[1:]).T*mu)"
   ]
  },
  {
   "cell_type": "code",
   "execution_count": 6,
   "metadata": {},
   "outputs": [
    {
     "data": {
      "text/plain": [
       "[<matplotlib.lines.Line2D at 0x25609b7e700>]"
      ]
     },
     "execution_count": 6,
     "metadata": {},
     "output_type": "execute_result"
    },
    {
     "data": {
      "image/png": "[encoded data removed]",
      "text/plain": [
       "<Figure size 432x288 with 1 Axes>"
      ]
     },
     "metadata": {
      "needs_background": "light"
     },
     "output_type": "display_data"
    }
   ],
   "source": [
    "# soft constraints\n",
    "\n",
    "import numpy as np\n",
    "import matplotlib.pyplot as plt\n",
    "import cvxpy as cp\n",
    "\n",
    "N = 1\n",
    "T = 500\n",
    "m = 20  # number of devices\n",
    "n = 5  # number of servers\n",
    "y_max = 110\n",
    "y_min = 90\n",
    "rs = 0.1\n",
    "beta = np.ones(n)\n",
    "beta[0] = 3\n",
    "beta[1] = 3\n",
    "gamma = 0.0001\n",
    "\n",
    "def optimization(m, n, wS, y, mu, BS, beta):\n",
    "    x = cp.Variable((n + 1, m), nonneg=True)\n",
    "    obj = beta @ cp.inv_pos(cp.sqrt(x[1:, :] @ y + wS)) + gamma * cp.sum(cp.multiply(cp.diag(mu @ x[1:, :]), y))\n",
    "\n",
    "    constraints = [0 <= x, x <= 1,\n",
    "                   x[1:, :] @ y <= BS,\n",
    "                   cp.sum(x, 0) == 1]\n",
    "\n",
    "    prob = cp.Problem(cp.Minimize(obj), constraints)\n",
    "    prob.solve()  # Returns the optimal value.\n",
    "    return x, prob\n",
    "\n",
    "def oracle(y, mu):\n",
    "    x, prob = optimization(m, n, wS, y, mu, BS, beta)\n",
    "    return x.value, prob.value, prob.status\n",
    "\n",
    "def f(x, y, mu):\n",
    "    return beta.dot(1/np.sqrt(x[1:, :].dot(y) + wS)) + gamma * np.sum((y*x[1:]).T*mu)\n",
    "\n",
    "def f_drop(x, y, mu, BS, gamma):\n",
    "    dp = np.minimum(x[1:, :].dot(y), BS)\n",
    "    return beta.dot(1/np.sqrt(dp + wS)) + gamma * np.sum((y*x[1:]).T*mu)\n",
    "\n",
    "reg = np.zeros((N, T))\n",
    "\n",
    "#records all y, x_opt, x_t #yuhang yao\n",
    "y_N_T = np.zeros((N, T, m)) #yuhang yao\n",
    "x_opt_N_T = np.zeros((N, T, n + 1, m)) #yuhang yao\n",
    "x_t_N_T = np.zeros((N, T, n + 1, m)) #yuhang yao\n",
    "j_N_T = np.zeros((N, T, m))#yuhang yao\n",
    "BS_N = np.zeros((N, n))#yuhang yao\n",
    "\n",
    "for u in range(N):\n",
    "    wS = np.random.randint(15, 25, n)\n",
    "    BS = np.random.uniform(y_min*10, y_max*10, n)\n",
    "    BS_N[u] = BS\n",
    "    mu = np.random.rand(m, n)\n",
    "    mu[:,0] = 0.5\n",
    "    mu[:,1] = 0.5\n",
    "    mu[:,2] = 0.8\n",
    "    mu[:,3] = 0.8\n",
    "    mu[:,4] = 0.8\n",
    "    # trace_gen = Trace(m, n, seed + u)\n",
    "    # mu = trace_gen.avg()\n",
    "    # mu = np.random.rand(m, n)\n",
    "    # mu_hat = np.zeros_like(mu)  # empirical mean\n",
    "    mu_hat = np.zeros_like(mu)\n",
    "    T_ij = np.ones_like(mu)  # total number of times arm (i,j) is played\n",
    "    for t in range(T):\n",
    "        y = np.random.uniform(y_min, y_max, m).astype(int)\n",
    "        x_opt, f_opt, status = oracle(y, mu)\n",
    "        if 'optimal' not in status:\n",
    "            print('Solution infeasible 1')\n",
    "            break\n",
    "\n",
    "        rho_ij = np.sqrt(3 * np.log(t + 1) / (2 * T_ij)) * rs\n",
    "        mu_bar = np.maximum(mu_hat - rho_ij, 0) # LCB\n",
    "        x_t, _, status = oracle(y, mu_bar)\n",
    "        if 'optimal' not in status:\n",
    "            print('Solution infeasible 2')\n",
    "            break\n",
    "\n",
    "        f_t = f(x_t, y, mu)\n",
    "\n",
    "        # sample j based on x_t[i], observe c_ij, update mu_hat[i,j]\n",
    "        # c = trace_gen.generate()\n",
    "        for i in range(m):\n",
    "            j = np.random.choice(n+1, p=x_t[:, i])\n",
    "            j_N_T[u, t, i] = j #yuhang yao\n",
    "            if j != 0:\n",
    "                j -= 1\n",
    "                c_ij = int(np.random.rand() < mu[i, j])\n",
    "                # a = np.random.rand() * 3\n",
    "                # c_ij = np.random.beta(a, a * (1-mu[i, j])/mu[i, j]) # beta distribution\n",
    "                # c_ij = c[i, j]  # trace\n",
    "                T_ij[i, j] += 1\n",
    "                mu_hat[i, j] += (c_ij - mu_hat[i, j]) / T_ij[i, j]\n",
    "\n",
    "        # calculate regert\n",
    "        reg[u, t] = f_t - f_opt\n",
    "        y_N_T[u, t] = y#yuhang yao\n",
    "        x_opt_N_T[u, t] = x_opt#yuhang yao\n",
    "        x_t_N_T[u, t] = x_t#yuhang yao\n",
    "        \n",
    "plt.plot(np.cumsum(reg, axis=1).T)"
   ]
  },
  {
   "cell_type": "code",
   "execution_count": 7,
   "metadata": {},
   "outputs": [
    {
     "data": {
      "text/plain": [
       "0.420836011229047"
      ]
     },
     "execution_count": 7,
     "metadata": {},
     "output_type": "execute_result"
    }
   ],
   "source": [
    "beta.dot(1/np.sqrt(x_t[1:, :].dot(y) + wS))"
   ]
  },
  {
   "cell_type": "code",
   "execution_count": 8,
   "metadata": {},
   "outputs": [
    {
     "data": {
      "text/plain": [
       "array([647.78640811, 644.76572758, 263.67473946, 262.38660127,\n",
       "       264.38652146])"
      ]
     },
     "execution_count": 8,
     "metadata": {},
     "output_type": "execute_result"
    }
   ],
   "source": [
    "x_t[1:, :].dot(y) + wS"
   ]
  },
  {
   "cell_type": "code",
   "execution_count": 9,
   "metadata": {},
   "outputs": [
    {
     "data": {
      "text/plain": [
       "array([647.78640811, 644.76572758, 263.67473946, 262.38660127,\n",
       "       264.38652146])"
      ]
     },
     "execution_count": 9,
     "metadata": {},
     "output_type": "execute_result"
    }
   ],
   "source": [
    "x_t[1:, :].dot(y) + wS"
   ]
  },
  {
   "cell_type": "code",
   "execution_count": 10,
   "metadata": {},
   "outputs": [
    {
     "data": {
      "text/plain": [
       "1214.0343576022017"
      ]
     },
     "execution_count": 10,
     "metadata": {},
     "output_type": "execute_result"
    }
   ],
   "source": [
    "s = 0\n",
    "for i in range(m):\n",
    "    for j in range(n):\n",
    "        s += mu[i,j]*x_t[j+1,i]*y[i]\n",
    "s"
   ]
  }
 ],
 "metadata": {
  "kernelspec": {
   "display_name": "Python 3",
   "language": "python",
   "name": "python3"
  },
  "language_info": {
   "codemirror_mode": {
    "name": "ipython",
    "version": 3
   },
   "file_extension": ".py",
   "mimetype": "text/x-python",
   "name": "python",
   "nbconvert_exporter": "python",
   "pygments_lexer": "ipython3",
   "version": "3.8.3"
  }
 },
 "nbformat": 4,
 "nbformat_minor": 4
}
