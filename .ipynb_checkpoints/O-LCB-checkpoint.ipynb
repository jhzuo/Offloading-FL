{
 "cells": [
  {
   "cell_type": "code",
   "execution_count": 33,
   "metadata": {},
   "outputs": [
    {
     "name": "stdout",
     "output_type": "stream",
     "text": [
      "[306.09565217391304, 248.15555555555557, 329.708, 589.21484375, 449.528, 428.904, 563.7375, 587.6194926568759, 535.001256281407, 508.5719696969697, 586.8825757575758, 651.25125, 632.75125, 493.988, 633.9669631512071, 458.5051282051282, 539.595690747782, 507.852417302799, 420.1013767209011, 438.24142312579414, 66.492, 147.928, 250.984, 586.9309895833334, 469.5816464237517, 569.0475, 543.44, 514.95, 519.1070528967255, 700.09, 749.2338811630847, 594.020330368488, 682.8055555555555, 558.08375, 391.38990825688074, 533.96, 558.112, 701.49875, 624.8065326633166, 471.64666666666665, 549.5233333333333, 542.467088607595, 507.7635220125786, 625.4793491864831, 524.9612015018773, 470.1489361702128, 264.21151439299126, 681.9434673366834, 572.5707006369427, 682.5281602002503, 892.7974193548387, 523.0940279542567, 723.3409961685824, 536.8853904282116, 450.588, 348.7887323943662, 744.6540404040404, 465.99749687108886, 559.5544430538173, 614.1664580725908, 590.2205128205128, 550.1261034047919, 356.372, 327.04587155963304, 397.264, 527.296, 325.756, 204.74576271186442, 535.04, 454.77292576419217, 435.3772151898734, 676.3025, 331.376, 564.124, 252.59030837004406, 488.0213675213675, 275.45303867403317, 341.028, 552.3675, 476.6581956797967, 571.5570890840653, 245.104, 593.1840101522843, 560.80125, 268.044, 365.337899543379, 556.3216520650814, 563.7357774968394, 447.937343358396, 341.116, 192.096, 419.34909090909093, 324.30677290836655, 184.94545454545454, 331.6322869955157, 663.982191780822, 499.06007509386734, 658.4647355163728, 406.11660329531054, 296.8771186440678, 111.08407079646018, 253.292, 572.8560700876095, 386.918648310388, 468.9674593241552, 149.376, 136.64, 584.7471839799749, 616.3879849812265, 548.4167709637046, 704.875, 457.78097622027536, 387.3761232349166, 417.4017521902378, 313.1216216216216, 308.42, 387.6808510638298, 275.98850574712645]\n"
     ]
    }
   ],
   "source": [
    "\n",
    "import numpy as np\n",
    "import matplotlib.pyplot as plt\n",
    "import cvxpy as cp\n",
    "\n",
    "np.random.seed(1)\n",
    "\n",
    "\n",
    "m = 20 # number of devices\n",
    "n = 5  # number of servers\n",
    "\n",
    "wD = np.random.randint(1 ,4 ,m )\n",
    "wS = np.random.randint(1 ,4 ,n )\n",
    "\n",
    "BD = np.random.uniform(50, 80, m)\n",
    "BS = np.random.uniform(100, 300, n)\n",
    "CD = np.random.uniform(100, 200, m)\n",
    "\n",
    "class Trace(object):\n",
    "    data_files = \n",
    "    np.loadtxt('Lumos5G-v1.0.csv', delimiter=',', skiprows=1, usecols=(0,15)).astype(int)\n",
    "    traces = []\n",
    "    for run in np.unique(data[:,0]):\n",
    "        traces.append(data[data[:,0]==run, 1])\n",
    "    _counter = [0] * len(traces)\n",
    "\n",
    "    def __call__(self, idx):\n",
    "        if Trace._counter == len(data)\n",
    "        Trace._counter += 1\n",
    "\n",
    "\n",
    "# f(x, y, mu)\n",
    "def f(x, y, mu, gamma=0):\n",
    "    a = np.multiply(x[0, :], y)\n",
    "    b = x[1:, :] @ y\n",
    "    c = mu @ b\n",
    "#     print('x0y:\\t%.2f +- %.2f' %(np.average(a), np.std(a)))\n",
    "#     print('xy:\\t%.2f +- %.2f' %(np.average(b), np.std(b)))\n",
    "#     print('uxy:\\t%.2f +- %.2f' %(np.average(c), np.std(c)))\n",
    "    return np.sum( 1 /np.sqrt(a + wD)) \\\n",
    "           + np.sum( 1 /np.sqrt(np.sqrt(b+ wS))) + gamma * np.sum(c)/m/n\n",
    "\n",
    "\n",
    "# min f(x, y. mu)\n",
    "def oracle(y, mu, gamma=0, hard=False):\n",
    "    if hard:\n",
    "        gamma = 0\n",
    "\n",
    "    Y = cp.Parameter((m,), nonneg=True)\n",
    "    Y.value = y\n",
    "\n",
    "    x = cp.Variable((n + 1, m), nonneg=True)\n",
    "\n",
    "\n",
    "    obj = cp.sum(cp.inv_pos(cp.sqrt(cp.multiply(x[0, :], y) + wD))) \\\n",
    "          + cp.sum(cp.inv_pos(cp.sqrt(x[1:, :] @ y + wS))) + gamma * cp.sum(mu @ (x[1:, :] @ y))/m/n\n",
    "\n",
    "    constraints = [0 <= x, x <= 1,\n",
    "                   cp.multiply(x[0, :], y) <= BD,\n",
    "                   x[1:, :] @ y <= BS,\n",
    "                   cp.sum(x, 0) == 1]\n",
    "\n",
    "    if hard:\n",
    "        constraints.append(mu @ (x[1:, :] @ y) <= CD)\n",
    "\n",
    "    prob = cp.Problem(cp.Minimize(obj), constraints)\n",
    "    prob.solve()  # Returns the optimal value.\n",
    "    return x.value, prob.value, prob.status,\n",
    "\n",
    "\n"
   ]
  },
  {
   "cell_type": "code",
   "execution_count": 35,
   "metadata": {},
   "outputs": [
    {
     "name": "stderr",
     "output_type": "stream",
     "text": [
      "/Users/yihu/opt/anaconda3/envs/Offloading-FL/lib/python3.9/site-packages/cvxpy/problems/problem.py:1278: UserWarning: Solution may be inaccurate. Try another solver, adjusting the solver settings, or solve with verbose=True for more information.\n",
      "  warnings.warn(\n"
     ]
    },
    {
     "data": {
      "image/png": "[encoded data removed]",
      "text/plain": [
       "<Figure size 432x288 with 1 Axes>"
      ]
     },
     "metadata": {
      "needs_background": "light"
     },
     "output_type": "display_data"
    }
   ],
   "source": [
    "N = 1 # number of experiments\n",
    "T = 1000 # rounds per experiment\n",
    "reg = np.zeros((N,T))\n",
    "gamma = 1\n",
    "for u in range(N):\n",
    "    mu = np.random.rand(m,n) # real mu\n",
    "    mu_hat = np.zeros_like(mu) # empirical mean\n",
    "    T_ij = np.ones_like(mu) # total number of times arm (i,j) is played\n",
    "    for t in range(T):\n",
    "        y = np.random.uniform(80, 120, m).astype(int)\n",
    "        x_opt, f_opt, status = oracle(y, mu, gamma)\n",
    "\n",
    "        rho_ij = np.sqrt(3*np.log(t+1)/(2*T_ij))\n",
    "        mu_bar = np.max(mu_hat - rho_ij, 0) # LCB\n",
    "        \n",
    "        x_t, f_t, status = oracle(y, mu_bar, gamma)\n",
    "        f_t = f(x_t, y, mu, gamma)\n",
    "        \n",
    "        # sample j based on x_t[i], observe c_ij, update mu_hat[i,j]        \n",
    "        for i in range(m):\n",
    "            j = np.random.choice(n+1, p=x_t[:,i])\n",
    "            if j != 0:\n",
    "                j -= 1\n",
    "                c_ij = int(np.random.rand() < mu[i,j])\n",
    "                T_ij[i, j] += 1\n",
    "                mu_hat[i, j] += (c_ij - mu_hat[i, j]) / T_ij[i, j]\n",
    "\n",
    "        # calculate regert\n",
    "        reg[u, t] = f_t - f_opt      \n",
    "        \n",
    "plt.plot(np.cumsum(reg,axis=1).T)\n",
    "plt.show()"
   ]
  },
  {
   "cell_type": "code",
   "execution_count": 29,
   "metadata": {},
   "outputs": [],
   "source": [
    "data = np.loadtxt('Lumos5G-v1.0.csv', delimiter=',', skiprows=1, usecols=(0,1,15)).astype(int)"
   ]
  },
  {
   "cell_type": "code",
   "execution_count": 32,
   "metadata": {},
   "outputs": [
    {
     "name": "stdout",
     "output_type": "stream",
     "text": [
      "[  1   2   3   4   5   6   7   8   9  10  11  12  13  14  15  16  17  18\n",
      "  19  20  21  22  23  24  25  26  27  28  29  30  31  32  33  34  35  36\n",
      "  37  38  39  40  41  42  43  44  45  46  47  48  49  50  51  52  53  54\n",
      "  55  56  57  58  59  60  61  62  63  64  65  66  67  68  69  70  71  72\n",
      "  73  74  75  76  77  78  79  80  81  82  83  84  85  86  87  88  89  90\n",
      "  91  92  93  94  95  96  97  98  99 100 101 102 103 104 105 106 107 108\n",
      " 109 110 111 112 113 114 115 116 117 118 119 120 121 122 123 124 125 126\n",
      " 127 128 129 130 131 132 133 134 135 136 137 138 139 140 141 142 143 144\n",
      " 145 146 147 148 149 150 151 152 153 154 155 156 157 158 159 160 161 162\n",
      " 163 164 165 166 167 168 169 170 171 172 173 174 175 176 177 178 179 180\n",
      " 181 182 183 184 185 186 187 188 189 190 191 192 193 194 195 196 197 198\n",
      " 199 200 201 202 203 204 205 206 207 208 209 210 211 212 213 214 215 216\n",
      " 217 218 219 220 221 222 223 224 225 226 227 228 229 230]\n",
      "[ 78 117 110 108 100 124 109 108  87 116  86 124   8   4 110  75  13   4\n",
      " 116 112 115  98  13 112  91 116 108  95 125  96  54  13 106 107 121  96\n",
      " 101 107 110 112 148 143 195 141  14  44  14  41  30  29 121 119 123 102\n",
      " 106 114 106  83 112 105 110  87 118 106 115 109 110  95 109 112 122 108\n",
      " 111 116  24   9 125 108  47  15 104  89 109  99 108  91 124  59  96  87\n",
      "  31  33  19  97 118 131 140 157 159 182 192 257 292 340 391 500 598 581\n",
      " 272 227 400 624 678 685 717 665 493 718 729 751  92   0 116 104 109 121\n",
      " 105  96 449 791 693 878 969 924 905 760 738 510  22 301  30  67  31  13\n",
      "  39  85  98 125 303 358  14   2   0  61  60  96 111  89 212 276 333 317\n",
      " 335 360 387 410 411 432 439 505 550 571 637 642 602 686 500 549 634 772\n",
      " 887 462  64 501 618 594 657 727 789 656 769 840 765 680 637 637 692 711\n",
      " 705 826 761 637 621 616 554 668 765 704 568 661 575 645 719 692 785 714\n",
      " 701 663 569 548 624 634 658 589 666 325  62   0  31 111]\n",
      "[  1   2   3   4   5   6   7   8   9  10  11  12  13  14  15  16  17  18\n",
      "  19  20  21  22  23  24  25  26  27  28  29  30  31  32  33  34  35  36\n",
      "  37  38  39  40  41  42  43  44  45  46  47  48  49  50  51  52  53  54\n",
      "  55  56  57  58  59  60  61  62  63  64  65  66  67  68  69  70  71  72\n",
      "  73  74  75  76  77  78  79  80  81  82  83  84  85  86  87  88  89  90\n",
      "  91  92  93  94  95  96  97  98  99 100 101 102 103 104 105 106 107 108\n",
      " 109 110 111 112 113 114 115 116 117 118 119 120 121 122 123 124 125 126\n",
      " 127 128 129 130 131 132 133 134 135 136 137 138 139 140 141 142 143 144\n",
      " 145 146 147 148 149 150 151 152 153 154 155 156 157 158 159 160 161 162\n",
      " 163 164 165 166 167 168 169 170 171 172 173 174 175 176 177 178 179 180\n",
      " 181 182 183 184 185 186 187 188 189 190 191 192 193 194 195 196 197 198\n",
      " 199 200 201 202 203 204 205 206 207 208 209 210 211 212 213 214 215 216\n",
      " 217 218 219 220 221 222 223 224 225]\n",
      "[ 109   82   88  122   95  121   92  121   93   22   23   23   19   31\n",
      "   21   16  109   95   54   66   78  105  126  192  287  400  305    8\n",
      "   15   51  257  171  127   55   38   17  101   83  114  104   90   96\n",
      "  121  113   92   84  125  103  109   81  107  106   93  121  117  100\n",
      "  121   92  122  110   99   85  109  108  120  114  120  118   84  109\n",
      "  100  116  125  112   87  104  124  111  124  122  115  122  124  101\n",
      "   85   80   97   98  108   93  124  125  117  120   94  124   93  121\n",
      "   96  124   81  125   89  104   99  113   90   90   92  109  101  123\n",
      "   19   57   94  185  248  468  616  346  494  481  439  254   50   34\n",
      "   21   40  105  314  668  748  727  569  668  578  652  527  591  795\n",
      "  773  779  883  823  997  979  697  624  400    5   79  111  538 1020\n",
      " 1390 1030 1290  573   40    0  125  118 1350 1670 1510  677  535  189\n",
      "    1   96  107  115  635  833  689  797  874  640   10    2    6  119\n",
      "   95  219   10    9  110  119  630  348  213  449  445  424  410  407\n",
      "  421  453  258  200  147  193  121  117  105  341  235  197  237  207\n",
      "  223  269  241  177  260  227  232   78    2    0    0  110   97   96\n",
      "   79]\n"
     ]
    }
   ],
   "source": [
    "print(data[data[:,0]==1,1])\n",
    "print(data[data[:,0]==1,2])\n",
    "print(data[data[:,0]==2,1])\n",
    "print(data[data[:,0]==2,2])"
   ]
  },
  {
   "cell_type": "code",
   "execution_count": 27,
   "metadata": {},
   "outputs": [
    {
     "name": "stdout",
     "output_type": "stream",
     "text": [
      "(68118, 19)\n"
     ]
    }
   ],
   "source": [
    "print(data.shape)"
   ]
  },
  {
   "cell_type": "code",
   "execution_count": null,
   "metadata": {},
   "outputs": [],
   "source": [
    "\n"
   ]
  }
 ],
 "metadata": {
  "kernelspec": {
   "display_name": "PyCharm (Offloading-FL)",
   "language": "python",
   "name": "pycharm-e0a56cf4"
  },
  "language_info": {
   "codemirror_mode": {
    "name": "ipython",
    "version": 3
   },
   "file_extension": ".py",
   "mimetype": "text/x-python",
   "name": "python",
   "nbconvert_exporter": "python",
   "pygments_lexer": "ipython3",
   "version": "3.9.5"
  },
  "pycharm": {
   "stem_cell": {
    "cell_type": "raw",
    "metadata": {
     "collapsed": false
    },
    "source": [
     "\n",
     "\n",
     "import numpy as np\n",
     "import matplotlib.pyplot as plt\n",
     "import cvxpy as cp\n",
     "\n",
     "\n",
     "m = 20 # number of devices\n",
     "n = 5  # number of servers\n",
     "\n",
     "wD = np.random.randint(1,4,(m,1))\n",
     "wS = np.random.randint(1,4,(n,1))\n",
     "\n",
     "BD = 5000\n",
     "BS = 5000\n",
     "CD = 5000\n",
     "\n",
     "\n",
     "# f(x, y, mu)\n",
     "def f(x, y, mu, gamma=0):\n",
     "    return np.sum(1/np.sqrt(np.multiply(x[0, :], y) + wD)) \\\n",
     "           + np.sum(1/np.sqrt(np.sqrt(x[1:, :] @ y+ wS))) \\\n",
     "           + gamma * (mu.T @ x[1:, :] @ y)\n",
     "\n",
     "# min f(x, y. mu)\n",
     "def oracle(y, mu, gamma=0, hard=False):\n",
     "    if hard:\n",
     "        gamma = 0\n",
     "\n",
     "    Y = cp.Parameter((m,), nonneg=True)\n",
     "    Y.value = y\n",
     "\n",
     "    x = cp.Variable((n+1, m), nonneg=True)\n",
     "\n",
     "    obj = cp.sum(cp.inv_pos(cp.sqrt(cp.multiply(x[0, :], y) + wD)) ) \\\n",
     "          + cp.sum(cp.inv_pos(cp.sqrt(x[1:, :] @ y+ wS))) + gamma * (mu.T @ x[1:, :] @ y)\n",
     "\n",
     "\n",
     "    constraints = [0 <= x, x <= 1,\n",
     "                   cp.multiply(x[0, :], y) <= BD,\n",
     "                   x[1:, :] @ y <= BS,\n",
     "                   cp.sum(x, 0) == 1]\n",
     "\n",
     "    if hard:\n",
     "        constraints.append(mu.T @ x[1:, :] @ y <= CD)\n",
     "\n",
     "    prob = cp.Problem(obj, constraints)\n",
     "    prob.solve()  # Returns the optimal value.\n",
     "    return x.value, prob.value, prob.status,\n",
     "\n",
     "\n",
     "\n",
     "N = 10 # number of experiments\n",
     "T = 1000 # rounds per experiment\n",
     "reg = np.zeros((N,T))\n",
     "gamma = 1\n",
     "for u in range(N):\n",
     "    mu = np.random.rand(m,n) # real mu\n",
     "    mu_hat = np.zeros_like(mu) # empirical mean\n",
     "    T_ij = np.ones_like(mu) # total number of times arm (i,j) is played\n",
     "    for t in range(T):\n",
     "        y = int(np.random.uniform(80, 120, m))\n",
     "        x_opt, f_opt, status = oracle(y, mu, gamma)\n",
     "\n",
     "        rho_ij = np.sqrt(3*np.log(t+1)/(2*T_ij))\n",
     "        mu_bar = np.max(mu_hat - rho_ij, 0) # LCB\n",
     "        \n",
     "        x_t, = oracle(y, mu_bar, gamma)\n",
     "        f_t = f(x_t, y, mu, gamma)\n",
     "        \n",
     "        # sample j based on x_t[i], observe c_ij, update mu_hat[i,j]        \n",
     "        for i in range(m):\n",
     "            j = np.random.choice(n+1, p=x_t[i])\n",
     "            if j != 0:\n",
     "                j -= 1\n",
     "                c_ij = int(np.random.rand() < mu[i,j])\n",
     "                T_ij[i, j] += 1\n",
     "                mu_hat[i, j] += (c_ij - mu_hat[i, j]) / T_ij[i, j]\n",
     "\n",
     "        # calculate regert\n",
     "        reg[u, t] = f_t - f_opt      \n"
    ]
   }
  }
 },
 "nbformat": 4,
 "nbformat_minor": 4
}
